{
 "metadata": {
  "name": "",
  "signature": "sha256:3f9ad3d092dcd73ad92948d21bc1128f2d379835191f8e581f0064ecced2e0c0"
 },
 "nbformat": 3,
 "nbformat_minor": 0,
 "worksheets": []
}