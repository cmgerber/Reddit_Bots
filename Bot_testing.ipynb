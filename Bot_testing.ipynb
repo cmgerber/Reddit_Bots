{
 "metadata": {
  "name": "",
  "signature": "sha256:76b06afdb9d88d751421e446baf2bb9bb03628531a5a03b1fd5d33fbee5084c3"
 },
 "nbformat": 3,
 "nbformat_minor": 0,
 "worksheets": [
  {
   "cells": [
    {
     "cell_type": "code",
     "collapsed": false,
     "input": [
      "import praw"
     ],
     "language": "python",
     "metadata": {},
     "outputs": [],
     "prompt_number": 1
    },
    {
     "cell_type": "code",
     "collapsed": false,
     "input": [
      "#create user agent for reddit api\n",
      "user_agent = (\"BookFinder Bot 0.1\")\n",
      "\n",
      "r = praw.Reddit(user_agent = user_agent)\n",
      "\n",
      "#add a subreddit to look at\n",
      "subreddit = r.get_subreddit(\"printsf\")"
     ],
     "language": "python",
     "metadata": {},
     "outputs": [],
     "prompt_number": 2
    },
    {
     "cell_type": "code",
     "collapsed": false,
     "input": [
      "#read submissions\n",
      "post_text = {}\n",
      "for submission in subreddit.get_new():\n",
      "    post_text[(submission.short_link,submission.url)] = submission.title + submission.selftext\n",
      "#     print \"Title: \", submission.title\n",
      "#     print 'Id: ', submission.url\n",
      "#     print \"Text: \", submission.selftext\n",
      "#     print \"Score: \", submission.score\n",
      "#     print \"---------------------------------\\n\""
     ],
     "language": "python",
     "metadata": {},
     "outputs": [],
     "prompt_number": 27
    },
    {
     "cell_type": "code",
     "collapsed": false,
     "input": [
      "Keyterms = ['Bujold', 'Asimov', 'Hamilton', 'Gibson', 'Reynolds', 'Stephenson', 'Scalzi']"
     ],
     "language": "python",
     "metadata": {},
     "outputs": [],
     "prompt_number": 28
    },
    {
     "cell_type": "code",
     "collapsed": false,
     "input": [
      "for key, value in post_text.items():\n",
      "    for term in Keyterms:\n",
      "        if term in value:\n",
      "            print key[0]\n",
      "            break"
     ],
     "language": "python",
     "metadata": {},
     "outputs": [
      {
       "output_type": "stream",
       "stream": "stdout",
       "text": [
        "http://redd.it/2mjitn\n",
        "http://redd.it/2mi96q\n"
       ]
      }
     ],
     "prompt_number": 32
    },
    {
     "cell_type": "code",
     "collapsed": false,
     "input": [],
     "language": "python",
     "metadata": {},
     "outputs": []
    }
   ],
   "metadata": {}
  }
 ]
}