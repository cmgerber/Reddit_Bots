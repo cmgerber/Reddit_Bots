{
 "metadata": {
  "name": "",
  "signature": "sha256:711401e974bb5d31535a5c1cfb7aa8457e28659dbef6261c047238f1ba09bfb0"
 },
 "nbformat": 3,
 "nbformat_minor": 0,
 "worksheets": [
  {
   "cells": [
    {
     "cell_type": "code",
     "collapsed": false,
     "input": [
      "import praw"
     ],
     "language": "python",
     "metadata": {},
     "outputs": [],
     "prompt_number": 1
    },
    {
     "cell_type": "code",
     "collapsed": false,
     "input": [
      "#create user agent for reddit api\n",
      "user_agent = (\"BookFinder Bot 0.1\")\n",
      "\n",
      "r = praw.Reddit(user_agent = user_agent)\n",
      "\n",
      "#add a subreddit to look at\n",
      "subreddit = r.get_subreddit(\"printsf\")"
     ],
     "language": "python",
     "metadata": {},
     "outputs": [],
     "prompt_number": 2
    },
    {
     "cell_type": "code",
     "collapsed": false,
     "input": [
      "#read submissions\n",
      "\n",
      "for submission in subreddit.get_new(limit = 5):\n",
      "    print \"Title: \", submission.title\n",
      "    print \"Text: \", submission.selftext\n",
      "    print \"Score: \", submission.score\n",
      "    print \"---------------------------------\\n\""
     ],
     "language": "python",
     "metadata": {},
     "outputs": [
      {
       "output_type": "stream",
       "stream": "stdout",
       "text": [
        "Title:  help find a short story\n",
        "Text:  hi all,\n",
        "\n",
        "I'm trying to remember a story I once read, but I don't remember the name - it was about two guards in a lighthouse and a sea creature that kind of develops a relationship with them - then one of them dies I think and the story ends with the creature grieving when - does this ring a bell with any of you? thanks in advance!!\n",
        "Score:  7\n",
        "---------------------------------\n",
        "\n",
        "Title:  Suggestion Request. Something similar to The Lost Fleet Series by Jack Campbell. (spoilers)\n",
        "Text:  I loved the Lost Fleet and Beyond the Stars series, but not so much the Lost Stars. I really enjoyed the attention to detail regarding travel in space and how the restriction of the speed of light effects battle tactics.\n",
        "\n",
        "I also liked the exploration of what humanity is capable of from the point of view of a person with more contemporary \"good guy\" ideals.\n",
        "\n",
        "The characters are really what pulled me through what would have been drags in the books.\n",
        "\n",
        "Are the Stark's series or the JAG in Space series as good? \n",
        "\n",
        "Can anyone recommend other books/series they enjoyed as well? \n",
        "\n",
        "I prefer something more toward hard scifi, but not where the characters take a back seat to talking about all the cool future tech.\n",
        "Score:  11\n",
        "---------------------------------\n",
        "\n",
        "Title:  Margaret Atwood on MaddAddam, the HBO Adaptation, and Genetic Engineering\n",
        "Text:  \n",
        "Score:  12\n",
        "---------------------------------\n",
        "\n",
        "Title:  Richard Morgan's Broken Angels - a question (spoilers abound)\n",
        "Text:  I had about a week pause while reading this, and I might have forgotten something. I could also just be overthinking, but I'm concerned it could lead to me missing something about Takeshi's character arc through the series. Anyway... \n",
        "\n",
        "I'm confused about Takeshi's motivations and why he slaughtered all those Wedge guys. Obviously, he has no particular allegiances. He seems mostly driven by his loyalty and, surprisingly enough, his emotional attachment to particular people he's working with at the time. In the first novel, he seemed to have a more high-level motivation that included dealing out some general form of justice and it wasn't totally personal, but in *Broken Angels* his actions seemed purely personal. That's fine. His overall story in the series seems to be about breaking through all the Envoy training stuff (intentionally or not) and becoming more 'human'. I like that. I just want to make sure that there wasn't a less personal, more strategic motivation in his actions on the beach. Carrera didn't come across as the Big Bad Guy that what's-her-name did in the first book. I'm not saying there should be anything else, just curious.\n",
        "Score:  7\n",
        "---------------------------------\n",
        "\n",
        "Title:  Help finding a short story from early 1990s\n",
        "Text:  I am trying to find a short story I read I the early to mid-nineties.\n",
        "It was in an SF anthology, I want to say Dozois' Year's Best, but I have scoured the tables of contents for the entire series as well as leafing through the various anthologies that I possess, but to no avail. It was definitely published prior to 1995.\n",
        "\n",
        "The story took place shortly after a nuclear war and the protagonist spent several days hiding in his basement with his wife. I remember the protagonist lamenting the fact that he had not had a chance to shower after having sex with his lover, and wondering if his wife could smell this on him. After venturing outside, his wife committed suicide and shortly thereafter he was \"beamed up\" to an enormous biological starship, along with other survivors of the war. These survivors formed a community of sorts while exploring the ship. The characters never discover why they were picked up, nor who controls the ship.\n",
        "\n",
        "I am really starting to think I imagined reading this story and it's haunting me!\n",
        "\n",
        "I have used my Google Fu with every possible related term of which I can think; I've searched multiple wikis and lists of post-apocalyptic fiction, but nothing. \n",
        "I'm really just hoping to come across someone who has read this story, because it does not appear to have any trace on the Interwebs.\n",
        "\n",
        "I tried r/sciencefiction and r/whatsthatbook but just discovered this subreddit.\n",
        "\n",
        "Any ideas?\n",
        "Score:  23\n",
        "---------------------------------\n",
        "\n"
       ]
      }
     ],
     "prompt_number": 6
    },
    {
     "cell_type": "code",
     "collapsed": false,
     "input": [],
     "language": "python",
     "metadata": {},
     "outputs": []
    }
   ],
   "metadata": {}
  }
 ]
}