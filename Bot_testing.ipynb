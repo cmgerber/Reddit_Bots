{
 "metadata": {
  "name": "",
  "signature": "sha256:509dbf8436f0685a073cde438faa994302b2565e9f419bdd310b4e7b287315cb"
 },
 "nbformat": 3,
 "nbformat_minor": 0,
 "worksheets": [
  {
   "cells": [
    {
     "cell_type": "code",
     "collapsed": false,
     "input": [
      "import praw\n",
      "from pyUtil import easyPickle as pickle\n",
      "import time\n",
      "import Send_Email"
     ],
     "language": "python",
     "metadata": {},
     "outputs": [],
     "prompt_number": 1
    },
    {
     "cell_type": "code",
     "collapsed": false,
     "input": [
      "#create user agent for reddit api\n",
      "user_agent = (\"BookFinder Bot 0.1\")\n",
      "\n",
      "r = praw.Reddit(user_agent = user_agent)\n",
      "\n",
      "#add a subreddit to look at\n",
      "subreddit = r.get_subreddit(\"printsf\")"
     ],
     "language": "python",
     "metadata": {},
     "outputs": [],
     "prompt_number": 2
    },
    {
     "cell_type": "code",
     "collapsed": false,
     "input": [
      "#load last post text\n",
      "post_text = pickle.open_object('post_text.pkl')"
     ],
     "language": "python",
     "metadata": {},
     "outputs": [],
     "prompt_number": 3
    },
    {
     "cell_type": "code",
     "collapsed": false,
     "input": [
      "#if the submission is over a week old delete it\n",
      "for key, value in post_text.items():\n",
      "    if (time.time() - value[2])/(60*60) > 168:\n",
      "        del post_text[key]"
     ],
     "language": "python",
     "metadata": {},
     "outputs": [],
     "prompt_number": 4
    },
    {
     "cell_type": "code",
     "collapsed": false,
     "input": [
      "#read submissions\n",
      "\n",
      "#list of new posts to email\n",
      "new_post_list = []\n",
      "\n",
      "for submission in subreddit.get_new():\n",
      "    #if the submission is over a day old don't include it\n",
      "    if (time.time() - submission.created_utc)/(60*60) > 24:\n",
      "        continue\n",
      "    if submission.short_link not in post_text:\n",
      "        new_post_list.append(submission.short_link)\n",
      "    post_text[(submission.short_link)] = [(submission.title + submission.selftext),\n",
      "                                          submission.title, submission.created_utc]              \n",
      "#     print \"Title: \", submission.title\n",
      "#     print 'Id: ', submission.url\n",
      "#     print \"Text: \", submission.selftext\n",
      "#     print \"Score: \", submission.score\n",
      "#     print \"---------------------------------\\n\"\n",
      "    print 'Title: ', submission.title\n",
      "    print 'Hours since submission: ', (time.time() - submission.created_utc)/(60*60)"
     ],
     "language": "python",
     "metadata": {},
     "outputs": [
      {
       "output_type": "stream",
       "stream": "stdout",
       "text": [
        "Title:  The Rise of Chu: Chatting with Wesley Chu about returning to Angry Robot Books and his new series, The Rise of Io\n",
        "Hours since submission:  3.34618691749\n",
        "Title:  Stuck on Mars with nothing but disco: Ars talks with The Martian\u2019s Andy Weir\n",
        "Hours since submission:  5.68674251417\n",
        "Title:  10,000 Science Fiction Fanzines to be digitized as part of a major University of Iowa initiative\n",
        "Hours since submission:  7.06340921779\n",
        "Title:  Here's a list of some great SF by female authors.\n",
        "Hours since submission:  9.25313147638\n",
        "Title:  Review of The Abyss Beyond Dreams \u2013 Peter F. Hamilton\n",
        "Hours since submission:  10.3839648458\n",
        "Title:  Anyone care to discuss \"The Peripheral?\" [HUGE SPOILERS]\n",
        "Hours since submission:  13.0247982153\n",
        "Title:  Motherboard at Vice.com have a new sub-site, Terraform, specifically for SF short fiction.\n",
        "Hours since submission:  14.3711871397\n",
        "Title:  BoingBoing: \"Describing the indescribable with Jeff Vandermeer\"\n",
        "Hours since submission:  23.1528538516\n",
        "Title:  NY Times: \"In a Topsy-Turvy World, China Warms to Sci-Fi - Liu Cixin\u2019s \u2018The Three-Body Problem\u2019 Is Published in U.S.\"\n",
        "Hours since submission:  23.1961872808\n"
       ]
      }
     ],
     "prompt_number": 3
    },
    {
     "cell_type": "code",
     "collapsed": false,
     "input": [
      "Keyterms = ['Bujold', 'Asimov', 'Hamilton', 'Gibson', 'Reynolds', 'Stephenson', 'Scalzi']"
     ],
     "language": "python",
     "metadata": {},
     "outputs": [],
     "prompt_number": 4
    },
    {
     "cell_type": "code",
     "collapsed": false,
     "input": [
      "email_text = ''\n",
      "for post in new_post_list:\n",
      "    for term in Keyterms:\n",
      "        if term in post_text[post][0]:\n",
      "            email_text += (post_text[post][1] + ' \\n' + post + ' \\n')\n",
      "            break"
     ],
     "language": "python",
     "metadata": {},
     "outputs": [
      {
       "output_type": "stream",
       "stream": "stdout",
       "text": [
        "Here's a list of some great SF by female authors.\n",
        "http://redd.it/2mo8tz\n",
        "Review of The Abyss Beyond Dreams \u2013 Peter F. Hamilton\n",
        "http://redd.it/2mo1xk\n"
       ]
      }
     ],
     "prompt_number": 21
    },
    {
     "cell_type": "code",
     "collapsed": false,
     "input": [
      "def remove_ascii(text):\n",
      "    for letter in text:\n",
      "        if ord(letter) > 128:\n",
      "            text = text.replace(letter, '')\n",
      "    return text\n",
      "\n",
      "email_text = remove_ascii(email_text)"
     ],
     "language": "python",
     "metadata": {},
     "outputs": [],
     "prompt_number": 25
    },
    {
     "cell_type": "code",
     "collapsed": false,
     "input": [
      "print email_text"
     ],
     "language": "python",
     "metadata": {},
     "outputs": [
      {
       "output_type": "stream",
       "stream": "stdout",
       "text": [
        "Here's a list of some great SF by female authors. \n",
        "http://redd.it/2mo8tz \n",
        "Review of The Abyss Beyond Dreams  Peter F. Hamilton \n",
        "http://redd.it/2mo1xk \n",
        "\n"
       ]
      }
     ],
     "prompt_number": 26
    },
    {
     "cell_type": "code",
     "collapsed": false,
     "input": [
      "Send_Email.main(email_text, ['colin.gerber@gmail.com'])"
     ],
     "language": "python",
     "metadata": {},
     "outputs": [
      {
       "output_type": "stream",
       "stream": "stdout",
       "text": [
        "Email Sent\n"
       ]
      }
     ],
     "prompt_number": 27
    },
    {
     "cell_type": "code",
     "collapsed": false,
     "input": [
      "pickle.save_object(post_text, 'post_text.pkl')"
     ],
     "language": "python",
     "metadata": {},
     "outputs": [],
     "prompt_number": 86
    },
    {
     "cell_type": "code",
     "collapsed": false,
     "input": [],
     "language": "python",
     "metadata": {},
     "outputs": []
    }
   ],
   "metadata": {}
  }
 ]
}